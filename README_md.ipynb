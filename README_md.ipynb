{
  "nbformat": 4,
  "nbformat_minor": 0,
  "metadata": {
    "colab": {
      "provenance": [],
      "authorship_tag": "ABX9TyPQZCtdi/d1o4k0V0y8gGSm",
      "include_colab_link": true
    },
    "kernelspec": {
      "name": "python3",
      "display_name": "Python 3"
    },
    "language_info": {
      "name": "python"
    }
  },
  "cells": [
    {
      "cell_type": "markdown",
      "metadata": {
        "id": "view-in-github",
        "colab_type": "text"
      },
      "source": [
        "<a href=\"https://colab.research.google.com/github/gvantsattch/air_project/blob/main/README_md.ipynb\" target=\"_parent\"><img src=\"https://colab.research.google.com/assets/colab-badge.svg\" alt=\"Open In Colab\"/></a>"
      ]
    },
    {
      "cell_type": "markdown",
      "source": [],
      "metadata": {
        "id": "qvsEOHrUfZSF"
      }
    },
    {
      "cell_type": "markdown",
      "source": [
        "# ჰაერის ხარისხის ანალიზის პროექტი\n",
        "\n",
        "ამ პროექტის მიზანია სხვადასხვა ქალაქის ჰაერის ხარისხის მონაცემების წაკითხვა, ანალიზი და ვიზუალიზაცია. პროექტში გამოყენებულია ბაზა `air_health.db`, რომელიც შეიცავს ქალაქის, თარიღის და AQI (ჰაერის ხარისხის ინდექსის) მონაცემებს.\n",
        "\n",
        "პროექტი აგებულია Python-ის გამოყენებით Google Colab-ის გარემოში. მომხმარებელი იღებს ბაზას, უკავშირდება SQLite-ის საშუალებით, კითხულობს, ამატებს, განახლებს და შლის მონაცემებს. ასევე pandas-ის და matplotlib-ის გამოყენებით აწყობს სვეტურ, წრიულ და წერტილოვან დიაგრამებს.\n",
        "\n",
        "კოდი დაყოფილია ცალკეულ სელებად, ადვილად გასაშვებად. ფაილის ატვირთვა ხდება `files.upload()` მეთოდით. მომხმარებელს შეუძლია სხვადასხვა კრიტერიუმით ნახოს მონაცემები და შეაფასოს ჰაერის მდგომარეობა.\n"
      ],
      "metadata": {
        "id": "7V5Uivmmfa7H"
      }
    }
  ]
}